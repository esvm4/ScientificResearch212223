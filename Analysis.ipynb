{
 "cells": [
  {
   "cell_type": "code",
   "execution_count": 3,
   "metadata": {
    "vscode": {
     "languageId": "r"
    }
   },
   "outputs": [
    {
     "ename": "ERROR",
     "evalue": "Error in detach(\"lintr\"): invalid 'name' argument\n",
     "output_type": "error",
     "traceback": [
      "Error in detach(\"lintr\"): invalid 'name' argument\nTraceback:\n",
      "1. detach(\"lintr\")",
      "2. stop(\"invalid 'name' argument\")"
     ]
    }
   ],
   "source": [
    "library(lintr)\n",
    "path <- getwd()\n",
    "setwd(path)"
   ]
  }
 ],
 "metadata": {
  "kernelspec": {
   "display_name": "R",
   "language": "R",
   "name": "ir"
  },
  "language_info": {
   "codemirror_mode": "r",
   "file_extension": ".r",
   "mimetype": "text/x-r-source",
   "name": "R",
   "pygments_lexer": "r",
   "version": "4.2.2"
  },
  "orig_nbformat": 4,
  "vscode": {
   "interpreter": {
    "hash": "916dbcbb3f70747c44a77c7bcd40155683ae19c65e1c03b4aa3499c5328201f1"
   }
  }
 },
 "nbformat": 4,
 "nbformat_minor": 2
}
