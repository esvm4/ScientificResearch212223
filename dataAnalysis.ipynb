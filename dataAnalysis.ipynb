{
 "cells": [
  {
   "cell_type": "code",
   "execution_count": 41,
   "metadata": {
    "vscode": {
     "languageId": "r"
    }
   },
   "outputs": [],
   "source": [
    "#  packages\n",
    "pacman::p_load(pacman, dplyr, callr, GGally, ggplot2, ggthemes, tidyverse, ggvis, httr, lubridate, plotly, rio, rmarkdown, shiny, olsrr, zoo, PerformanceAnalytics, corrplot, stringr, tidyr, caTools, forecast, cowplot, rgl, ggstatsplot, relaimpo)"
   ]
  },
  {
   "cell_type": "code",
   "execution_count": 42,
   "metadata": {
    "vscode": {
     "languageId": "r"
    }
   },
   "outputs": [],
   "source": [
    "# set path\n",
    "path <- getwd()\n",
    "setwd(path)"
   ]
  },
  {
   "cell_type": "code",
   "execution_count": 43,
   "metadata": {
    "vscode": {
     "languageId": "r"
    }
   },
   "outputs": [
    {
     "data": {
      "text/html": [
       "<table class=\"dataframe\">\n",
       "<caption>A data.frame: 6 × 7</caption>\n",
       "<thead>\n",
       "\t<tr><th></th><th scope=col>lnGGGI</th><th scope=col>lnFDI</th><th scope=col>lnGDP</th><th scope=col>lnPD</th><th scope=col>lnTO</th><th scope=col>lnGDP2</th><th scope=col>lnCO2</th></tr>\n",
       "\t<tr><th></th><th scope=col>&lt;dbl&gt;</th><th scope=col>&lt;dbl&gt;</th><th scope=col>&lt;dbl&gt;</th><th scope=col>&lt;dbl&gt;</th><th scope=col>&lt;dbl&gt;</th><th scope=col>&lt;dbl&gt;</th><th scope=col>&lt;dbl&gt;</th></tr>\n",
       "</thead>\n",
       "<tbody>\n",
       "\t<tr><th scope=row>1</th><td>NA</td><td>NA</td><td>21.96351</td><td>5.149410</td><td>4.028510</td><td>43.92701</td><td>-0.6052462</td></tr>\n",
       "\t<tr><th scope=row>2</th><td>NA</td><td>NA</td><td>22.09764</td><td>5.170025</td><td>4.056082</td><td>44.19528</td><td>-0.6187635</td></tr>\n",
       "\t<tr><th scope=row>3</th><td>NA</td><td>NA</td><td>22.13074</td><td>5.184171</td><td>4.025054</td><td>44.26148</td><td>-0.6187635</td></tr>\n",
       "\t<tr><th scope=row>4</th><td>NA</td><td>NA</td><td>22.02466</td><td>5.191312</td><td>3.850038</td><td>44.04932</td><td>-0.6604477</td></tr>\n",
       "\t<tr><th scope=row>5</th><td>NA</td><td>NA</td><td>21.96162</td><td>5.191230</td><td>3.968937</td><td>43.92324</td><td>-0.6604477</td></tr>\n",
       "\t<tr><th scope=row>6</th><td>NA</td><td>NA</td><td>22.01226</td><td>5.182835</td><td>4.074026</td><td>44.02452</td><td>-0.7113519</td></tr>\n",
       "</tbody>\n",
       "</table>\n"
      ],
      "text/latex": [
       "A data.frame: 6 × 7\n",
       "\\begin{tabular}{r|lllllll}\n",
       "  & lnGGGI & lnFDI & lnGDP & lnPD & lnTO & lnGDP2 & lnCO2\\\\\n",
       "  & <dbl> & <dbl> & <dbl> & <dbl> & <dbl> & <dbl> & <dbl>\\\\\n",
       "\\hline\n",
       "\t1 & NA & NA & 21.96351 & 5.149410 & 4.028510 & 43.92701 & -0.6052462\\\\\n",
       "\t2 & NA & NA & 22.09764 & 5.170025 & 4.056082 & 44.19528 & -0.6187635\\\\\n",
       "\t3 & NA & NA & 22.13074 & 5.184171 & 4.025054 & 44.26148 & -0.6187635\\\\\n",
       "\t4 & NA & NA & 22.02466 & 5.191312 & 3.850038 & 44.04932 & -0.6604477\\\\\n",
       "\t5 & NA & NA & 21.96162 & 5.191230 & 3.968937 & 43.92324 & -0.6604477\\\\\n",
       "\t6 & NA & NA & 22.01226 & 5.182835 & 4.074026 & 44.02452 & -0.7113519\\\\\n",
       "\\end{tabular}\n"
      ],
      "text/markdown": [
       "\n",
       "A data.frame: 6 × 7\n",
       "\n",
       "| <!--/--> | lnGGGI &lt;dbl&gt; | lnFDI &lt;dbl&gt; | lnGDP &lt;dbl&gt; | lnPD &lt;dbl&gt; | lnTO &lt;dbl&gt; | lnGDP2 &lt;dbl&gt; | lnCO2 &lt;dbl&gt; |\n",
       "|---|---|---|---|---|---|---|---|\n",
       "| 1 | NA | NA | 21.96351 | 5.149410 | 4.028510 | 43.92701 | -0.6052462 |\n",
       "| 2 | NA | NA | 22.09764 | 5.170025 | 4.056082 | 44.19528 | -0.6187635 |\n",
       "| 3 | NA | NA | 22.13074 | 5.184171 | 4.025054 | 44.26148 | -0.6187635 |\n",
       "| 4 | NA | NA | 22.02466 | 5.191312 | 3.850038 | 44.04932 | -0.6604477 |\n",
       "| 5 | NA | NA | 21.96162 | 5.191230 | 3.968937 | 43.92324 | -0.6604477 |\n",
       "| 6 | NA | NA | 22.01226 | 5.182835 | 4.074026 | 44.02452 | -0.7113519 |\n",
       "\n"
      ],
      "text/plain": [
       "  lnGGGI lnFDI lnGDP    lnPD     lnTO     lnGDP2   lnCO2     \n",
       "1 NA     NA    21.96351 5.149410 4.028510 43.92701 -0.6052462\n",
       "2 NA     NA    22.09764 5.170025 4.056082 44.19528 -0.6187635\n",
       "3 NA     NA    22.13074 5.184171 4.025054 44.26148 -0.6187635\n",
       "4 NA     NA    22.02466 5.191312 3.850038 44.04932 -0.6604477\n",
       "5 NA     NA    21.96162 5.191230 3.968937 43.92324 -0.6604477\n",
       "6 NA     NA    22.01226 5.182835 4.074026 44.02452 -0.7113519"
      ]
     },
     "metadata": {},
     "output_type": "display_data"
    },
    {
     "data": {
      "text/html": [
       "<table class=\"dataframe\">\n",
       "<caption>A data.frame: 6 × 7</caption>\n",
       "<thead>\n",
       "\t<tr><th></th><th scope=col>lnGGGI</th><th scope=col>lnFDI</th><th scope=col>lnGDP</th><th scope=col>lnPD</th><th scope=col>lnTO</th><th scope=col>lnGDP2</th><th scope=col>lnCO2</th></tr>\n",
       "\t<tr><th></th><th scope=col>&lt;dbl&gt;</th><th scope=col>&lt;dbl&gt;</th><th scope=col>&lt;dbl&gt;</th><th scope=col>&lt;dbl&gt;</th><th scope=col>&lt;dbl&gt;</th><th scope=col>&lt;dbl&gt;</th><th scope=col>&lt;dbl&gt;</th></tr>\n",
       "</thead>\n",
       "<tbody>\n",
       "\t<tr><th scope=row>1</th><td>NA</td><td>19.28778</td><td>22.66507</td><td>3.701973</td><td>4.562411</td><td>45.33013</td><td>0.4918874</td></tr>\n",
       "\t<tr><th scope=row>2</th><td>NA</td><td>19.05562</td><td>23.00032</td><td>3.726912</td><td>4.326436</td><td>46.00063</td><td>0.8191629</td></tr>\n",
       "\t<tr><th scope=row>3</th><td>NA</td><td>17.64489</td><td>23.03672</td><td>3.749594</td><td>4.197479</td><td>46.07344</td><td>1.4349655</td></tr>\n",
       "\t<tr><th scope=row>4</th><td>NA</td><td>17.84278</td><td>23.24226</td><td>3.773564</td><td>4.068161</td><td>46.48453</td><td>1.9080599</td></tr>\n",
       "\t<tr><th scope=row>5</th><td>NA</td><td>19.06660</td><td>23.48686</td><td>3.801030</td><td>3.970184</td><td>46.97371</td><td>2.1279698</td></tr>\n",
       "\t<tr><th scope=row>6</th><td>NA</td><td>17.77008</td><td>23.60275</td><td>3.832461</td><td>3.811645</td><td>47.20550</td><td>2.4936847</td></tr>\n",
       "</tbody>\n",
       "</table>\n"
      ],
      "text/latex": [
       "A data.frame: 6 × 7\n",
       "\\begin{tabular}{r|lllllll}\n",
       "  & lnGGGI & lnFDI & lnGDP & lnPD & lnTO & lnGDP2 & lnCO2\\\\\n",
       "  & <dbl> & <dbl> & <dbl> & <dbl> & <dbl> & <dbl> & <dbl>\\\\\n",
       "\\hline\n",
       "\t1 & NA & 19.28778 & 22.66507 & 3.701973 & 4.562411 & 45.33013 & 0.4918874\\\\\n",
       "\t2 & NA & 19.05562 & 23.00032 & 3.726912 & 4.326436 & 46.00063 & 0.8191629\\\\\n",
       "\t3 & NA & 17.64489 & 23.03672 & 3.749594 & 4.197479 & 46.07344 & 1.4349655\\\\\n",
       "\t4 & NA & 17.84278 & 23.24226 & 3.773564 & 4.068161 & 46.48453 & 1.9080599\\\\\n",
       "\t5 & NA & 19.06660 & 23.48686 & 3.801030 & 3.970184 & 46.97371 & 2.1279698\\\\\n",
       "\t6 & NA & 17.77008 & 23.60275 & 3.832461 & 3.811645 & 47.20550 & 2.4936847\\\\\n",
       "\\end{tabular}\n"
      ],
      "text/markdown": [
       "\n",
       "A data.frame: 6 × 7\n",
       "\n",
       "| <!--/--> | lnGGGI &lt;dbl&gt; | lnFDI &lt;dbl&gt; | lnGDP &lt;dbl&gt; | lnPD &lt;dbl&gt; | lnTO &lt;dbl&gt; | lnGDP2 &lt;dbl&gt; | lnCO2 &lt;dbl&gt; |\n",
       "|---|---|---|---|---|---|---|---|\n",
       "| 1 | NA | 19.28778 | 22.66507 | 3.701973 | 4.562411 | 45.33013 | 0.4918874 |\n",
       "| 2 | NA | 19.05562 | 23.00032 | 3.726912 | 4.326436 | 46.00063 | 0.8191629 |\n",
       "| 3 | NA | 17.64489 | 23.03672 | 3.749594 | 4.197479 | 46.07344 | 1.4349655 |\n",
       "| 4 | NA | 17.84278 | 23.24226 | 3.773564 | 4.068161 | 46.48453 | 1.9080599 |\n",
       "| 5 | NA | 19.06660 | 23.48686 | 3.801030 | 3.970184 | 46.97371 | 2.1279698 |\n",
       "| 6 | NA | 17.77008 | 23.60275 | 3.832461 | 3.811645 | 47.20550 | 2.4936847 |\n",
       "\n"
      ],
      "text/plain": [
       "  lnGGGI lnFDI    lnGDP    lnPD     lnTO     lnGDP2   lnCO2    \n",
       "1 NA     19.28778 22.66507 3.701973 4.562411 45.33013 0.4918874\n",
       "2 NA     19.05562 23.00032 3.726912 4.326436 46.00063 0.8191629\n",
       "3 NA     17.64489 23.03672 3.749594 4.197479 46.07344 1.4349655\n",
       "4 NA     17.84278 23.24226 3.773564 4.068161 46.48453 1.9080599\n",
       "5 NA     19.06660 23.48686 3.801030 3.970184 46.97371 2.1279698\n",
       "6 NA     17.77008 23.60275 3.832461 3.811645 47.20550 2.4936847"
      ]
     },
     "metadata": {},
     "output_type": "display_data"
    },
    {
     "data": {
      "text/html": [
       "<table class=\"dataframe\">\n",
       "<caption>A data.frame: 6 × 7</caption>\n",
       "<thead>\n",
       "\t<tr><th></th><th scope=col>lnGGGI</th><th scope=col>lnFDI</th><th scope=col>lnGDP</th><th scope=col>lnPD</th><th scope=col>lnTO</th><th scope=col>lnGDP2</th><th scope=col>lnCO2</th></tr>\n",
       "\t<tr><th></th><th scope=col>&lt;dbl&gt;</th><th scope=col>&lt;dbl&gt;</th><th scope=col>&lt;dbl&gt;</th><th scope=col>&lt;dbl&gt;</th><th scope=col>&lt;dbl&gt;</th><th scope=col>&lt;dbl&gt;</th><th scope=col>&lt;dbl&gt;</th></tr>\n",
       "</thead>\n",
       "<tbody>\n",
       "\t<tr><th scope=row>1</th><td>NA</td><td>19.28778</td><td>22.66507</td><td>3.701973</td><td>4.562411</td><td>45.33013</td><td>0.4918874</td></tr>\n",
       "\t<tr><th scope=row>2</th><td>NA</td><td>19.05562</td><td>23.00032</td><td>3.726912</td><td>4.326436</td><td>46.00063</td><td>0.8191629</td></tr>\n",
       "\t<tr><th scope=row>3</th><td>NA</td><td>17.64489</td><td>23.03672</td><td>3.749594</td><td>4.197479</td><td>46.07344</td><td>1.4349655</td></tr>\n",
       "\t<tr><th scope=row>4</th><td>NA</td><td>17.84278</td><td>23.24226</td><td>3.773564</td><td>4.068161</td><td>46.48453</td><td>1.9080599</td></tr>\n",
       "\t<tr><th scope=row>5</th><td>NA</td><td>19.06660</td><td>23.48686</td><td>3.801030</td><td>3.970184</td><td>46.97371</td><td>2.1279698</td></tr>\n",
       "\t<tr><th scope=row>6</th><td>NA</td><td>17.77008</td><td>23.60275</td><td>3.832461</td><td>3.811645</td><td>47.20550</td><td>2.4936847</td></tr>\n",
       "</tbody>\n",
       "</table>\n"
      ],
      "text/latex": [
       "A data.frame: 6 × 7\n",
       "\\begin{tabular}{r|lllllll}\n",
       "  & lnGGGI & lnFDI & lnGDP & lnPD & lnTO & lnGDP2 & lnCO2\\\\\n",
       "  & <dbl> & <dbl> & <dbl> & <dbl> & <dbl> & <dbl> & <dbl>\\\\\n",
       "\\hline\n",
       "\t1 & NA & 19.28778 & 22.66507 & 3.701973 & 4.562411 & 45.33013 & 0.4918874\\\\\n",
       "\t2 & NA & 19.05562 & 23.00032 & 3.726912 & 4.326436 & 46.00063 & 0.8191629\\\\\n",
       "\t3 & NA & 17.64489 & 23.03672 & 3.749594 & 4.197479 & 46.07344 & 1.4349655\\\\\n",
       "\t4 & NA & 17.84278 & 23.24226 & 3.773564 & 4.068161 & 46.48453 & 1.9080599\\\\\n",
       "\t5 & NA & 19.06660 & 23.48686 & 3.801030 & 3.970184 & 46.97371 & 2.1279698\\\\\n",
       "\t6 & NA & 17.77008 & 23.60275 & 3.832461 & 3.811645 & 47.20550 & 2.4936847\\\\\n",
       "\\end{tabular}\n"
      ],
      "text/markdown": [
       "\n",
       "A data.frame: 6 × 7\n",
       "\n",
       "| <!--/--> | lnGGGI &lt;dbl&gt; | lnFDI &lt;dbl&gt; | lnGDP &lt;dbl&gt; | lnPD &lt;dbl&gt; | lnTO &lt;dbl&gt; | lnGDP2 &lt;dbl&gt; | lnCO2 &lt;dbl&gt; |\n",
       "|---|---|---|---|---|---|---|---|\n",
       "| 1 | NA | 19.28778 | 22.66507 | 3.701973 | 4.562411 | 45.33013 | 0.4918874 |\n",
       "| 2 | NA | 19.05562 | 23.00032 | 3.726912 | 4.326436 | 46.00063 | 0.8191629 |\n",
       "| 3 | NA | 17.64489 | 23.03672 | 3.749594 | 4.197479 | 46.07344 | 1.4349655 |\n",
       "| 4 | NA | 17.84278 | 23.24226 | 3.773564 | 4.068161 | 46.48453 | 1.9080599 |\n",
       "| 5 | NA | 19.06660 | 23.48686 | 3.801030 | 3.970184 | 46.97371 | 2.1279698 |\n",
       "| 6 | NA | 17.77008 | 23.60275 | 3.832461 | 3.811645 | 47.20550 | 2.4936847 |\n",
       "\n"
      ],
      "text/plain": [
       "  lnGGGI lnFDI    lnGDP    lnPD     lnTO     lnGDP2   lnCO2    \n",
       "1 NA     19.28778 22.66507 3.701973 4.562411 45.33013 0.4918874\n",
       "2 NA     19.05562 23.00032 3.726912 4.326436 46.00063 0.8191629\n",
       "3 NA     17.64489 23.03672 3.749594 4.197479 46.07344 1.4349655\n",
       "4 NA     17.84278 23.24226 3.773564 4.068161 46.48453 1.9080599\n",
       "5 NA     19.06660 23.48686 3.801030 3.970184 46.97371 2.1279698\n",
       "6 NA     17.77008 23.60275 3.832461 3.811645 47.20550 2.4936847"
      ]
     },
     "metadata": {},
     "output_type": "display_data"
    }
   ],
   "source": [
    "# import dataframe\n",
    "df_developed_raw <- read.csv(\"./data/developed.csv\", header = TRUE)\n",
    "df_developed <- df_developed_raw[, 3:9] # slicing [row, col], starting with 1\n",
    "\n",
    "df_developing_raw <- read.csv(\"./data/developing.csv\")\n",
    "df_developing <- df_developing_raw[, 3:9]\n",
    "\n",
    "df_all_raw <- read.csv(\"./data/all.csv\")\n",
    "df_all <- df_all_raw[, 3:9]\n",
    "\n",
    "head(df_developed)\n",
    "head(df_developing)\n",
    "head(df_all)"
   ]
  },
  {
   "cell_type": "code",
   "execution_count": 44,
   "metadata": {
    "vscode": {
     "languageId": "r"
    }
   },
   "outputs": [
    {
     "data": {
      "text/plain": [
       "     lnGGGI            lnFDI           lnGDP            lnPD       \n",
       " Min.   :-0.4868   Min.   :17.33   Min.   :21.07   Min.   :0.9911  \n",
       " 1st Qu.:-0.3628   1st Qu.:21.98   1st Qu.:24.72   1st Qu.:3.5201  \n",
       " Median :-0.3105   Median :23.33   Median :26.47   Median :4.7485  \n",
       " Mean   :-0.3105   Mean   :23.25   Mean   :26.26   Mean   :4.5999  \n",
       " 3rd Qu.:-0.2604   3rd Qu.:24.57   3rd Qu.:27.87   3rd Qu.:5.5074  \n",
       " Max.   :-0.1143   Max.   :27.32   Max.   :30.69   Max.   :8.9829  \n",
       " NA's   :30        NA's   :88                                      \n",
       "      lnTO           lnGDP2          lnCO2        \n",
       " Min.   :3.155   Min.   :42.15   Min.   :-0.7729  \n",
       " 1st Qu.:4.131   1st Qu.:49.45   1st Qu.: 2.9442  \n",
       " Median :4.476   Median :52.95   Median : 3.9568  \n",
       " Mean   :4.563   Mean   :52.52   Mean   : 4.1582  \n",
       " 3rd Qu.:4.980   3rd Qu.:55.73   3rd Qu.: 5.7988  \n",
       " Max.   :6.081   Max.   :61.39   Max.   : 8.7211  \n",
       " NA's   :10                      NA's   :15       "
      ]
     },
     "metadata": {},
     "output_type": "display_data"
    },
    {
     "name": "stdout",
     "output_type": "stream",
     "text": [
      "'data.frame':\t540 obs. of  7 variables:\n",
      " $ lnGGGI: num  NA NA NA NA NA NA NA NA NA NA ...\n",
      " $ lnFDI : num  NA NA NA NA NA NA NA NA NA NA ...\n",
      " $ lnGDP : num  22 22.1 22.1 22 22 ...\n",
      " $ lnPD  : num  5.15 5.17 5.18 5.19 5.19 ...\n",
      " $ lnTO  : num  4.03 4.06 4.03 3.85 3.97 ...\n",
      " $ lnGDP2: num  43.9 44.2 44.3 44 43.9 ...\n",
      " $ lnCO2 : num  -0.605 -0.619 -0.619 -0.66 -0.66 ...\n"
     ]
    }
   ],
   "source": [
    "# descriptive statistics\n",
    "summary(df_developed)\n",
    "# summary(df_developing)\n",
    "# summary(df_all)\n",
    "\n",
    "\n",
    "str(df_developed)\n",
    "# str(df_developing)\n",
    "# str(df_all)"
   ]
  },
  {
   "cell_type": "code",
   "execution_count": 45,
   "metadata": {
    "vscode": {
     "languageId": "r"
    }
   },
   "outputs": [
    {
     "data": {
      "text/html": [
       "<table class=\"dataframe\">\n",
       "<caption>A matrix: 6 × 7 of type lgl</caption>\n",
       "<thead>\n",
       "\t<tr><th scope=col>lnGGGI</th><th scope=col>lnFDI</th><th scope=col>lnGDP</th><th scope=col>lnPD</th><th scope=col>lnTO</th><th scope=col>lnGDP2</th><th scope=col>lnCO2</th></tr>\n",
       "</thead>\n",
       "<tbody>\n",
       "\t<tr><td>TRUE</td><td>TRUE</td><td>FALSE</td><td>FALSE</td><td>FALSE</td><td>FALSE</td><td>FALSE</td></tr>\n",
       "\t<tr><td>TRUE</td><td>TRUE</td><td>FALSE</td><td>FALSE</td><td>FALSE</td><td>FALSE</td><td>FALSE</td></tr>\n",
       "\t<tr><td>TRUE</td><td>TRUE</td><td>FALSE</td><td>FALSE</td><td>FALSE</td><td>FALSE</td><td>FALSE</td></tr>\n",
       "\t<tr><td>TRUE</td><td>TRUE</td><td>FALSE</td><td>FALSE</td><td>FALSE</td><td>FALSE</td><td>FALSE</td></tr>\n",
       "\t<tr><td>TRUE</td><td>TRUE</td><td>FALSE</td><td>FALSE</td><td>FALSE</td><td>FALSE</td><td>FALSE</td></tr>\n",
       "\t<tr><td>TRUE</td><td>TRUE</td><td>FALSE</td><td>FALSE</td><td>FALSE</td><td>FALSE</td><td>FALSE</td></tr>\n",
       "</tbody>\n",
       "</table>\n"
      ],
      "text/latex": [
       "A matrix: 6 × 7 of type lgl\n",
       "\\begin{tabular}{lllllll}\n",
       " lnGGGI & lnFDI & lnGDP & lnPD & lnTO & lnGDP2 & lnCO2\\\\\n",
       "\\hline\n",
       "\t TRUE & TRUE & FALSE & FALSE & FALSE & FALSE & FALSE\\\\\n",
       "\t TRUE & TRUE & FALSE & FALSE & FALSE & FALSE & FALSE\\\\\n",
       "\t TRUE & TRUE & FALSE & FALSE & FALSE & FALSE & FALSE\\\\\n",
       "\t TRUE & TRUE & FALSE & FALSE & FALSE & FALSE & FALSE\\\\\n",
       "\t TRUE & TRUE & FALSE & FALSE & FALSE & FALSE & FALSE\\\\\n",
       "\t TRUE & TRUE & FALSE & FALSE & FALSE & FALSE & FALSE\\\\\n",
       "\\end{tabular}\n"
      ],
      "text/markdown": [
       "\n",
       "A matrix: 6 × 7 of type lgl\n",
       "\n",
       "| lnGGGI | lnFDI | lnGDP | lnPD | lnTO | lnGDP2 | lnCO2 |\n",
       "|---|---|---|---|---|---|---|\n",
       "| TRUE | TRUE | FALSE | FALSE | FALSE | FALSE | FALSE |\n",
       "| TRUE | TRUE | FALSE | FALSE | FALSE | FALSE | FALSE |\n",
       "| TRUE | TRUE | FALSE | FALSE | FALSE | FALSE | FALSE |\n",
       "| TRUE | TRUE | FALSE | FALSE | FALSE | FALSE | FALSE |\n",
       "| TRUE | TRUE | FALSE | FALSE | FALSE | FALSE | FALSE |\n",
       "| TRUE | TRUE | FALSE | FALSE | FALSE | FALSE | FALSE |\n",
       "\n"
      ],
      "text/plain": [
       "     lnGGGI lnFDI lnGDP lnPD  lnTO  lnGDP2 lnCO2\n",
       "[1,] TRUE   TRUE  FALSE FALSE FALSE FALSE  FALSE\n",
       "[2,] TRUE   TRUE  FALSE FALSE FALSE FALSE  FALSE\n",
       "[3,] TRUE   TRUE  FALSE FALSE FALSE FALSE  FALSE\n",
       "[4,] TRUE   TRUE  FALSE FALSE FALSE FALSE  FALSE\n",
       "[5,] TRUE   TRUE  FALSE FALSE FALSE FALSE  FALSE\n",
       "[6,] TRUE   TRUE  FALSE FALSE FALSE FALSE  FALSE"
      ]
     },
     "metadata": {},
     "output_type": "display_data"
    },
    {
     "data": {
      "text/html": [
       "<table class=\"dataframe\">\n",
       "<caption>A matrix: 6 × 7 of type lgl</caption>\n",
       "<thead>\n",
       "\t<tr><th scope=col>lnGGGI</th><th scope=col>lnFDI</th><th scope=col>lnGDP</th><th scope=col>lnPD</th><th scope=col>lnTO</th><th scope=col>lnGDP2</th><th scope=col>lnCO2</th></tr>\n",
       "</thead>\n",
       "<tbody>\n",
       "\t<tr><td>TRUE</td><td>FALSE</td><td>FALSE</td><td>FALSE</td><td>FALSE</td><td>FALSE</td><td>FALSE</td></tr>\n",
       "\t<tr><td>TRUE</td><td>FALSE</td><td>FALSE</td><td>FALSE</td><td>FALSE</td><td>FALSE</td><td>FALSE</td></tr>\n",
       "\t<tr><td>TRUE</td><td>FALSE</td><td>FALSE</td><td>FALSE</td><td>FALSE</td><td>FALSE</td><td>FALSE</td></tr>\n",
       "\t<tr><td>TRUE</td><td>FALSE</td><td>FALSE</td><td>FALSE</td><td>FALSE</td><td>FALSE</td><td>FALSE</td></tr>\n",
       "\t<tr><td>TRUE</td><td>FALSE</td><td>FALSE</td><td>FALSE</td><td>FALSE</td><td>FALSE</td><td>FALSE</td></tr>\n",
       "\t<tr><td>TRUE</td><td>FALSE</td><td>FALSE</td><td>FALSE</td><td>FALSE</td><td>FALSE</td><td>FALSE</td></tr>\n",
       "</tbody>\n",
       "</table>\n"
      ],
      "text/latex": [
       "A matrix: 6 × 7 of type lgl\n",
       "\\begin{tabular}{lllllll}\n",
       " lnGGGI & lnFDI & lnGDP & lnPD & lnTO & lnGDP2 & lnCO2\\\\\n",
       "\\hline\n",
       "\t TRUE & FALSE & FALSE & FALSE & FALSE & FALSE & FALSE\\\\\n",
       "\t TRUE & FALSE & FALSE & FALSE & FALSE & FALSE & FALSE\\\\\n",
       "\t TRUE & FALSE & FALSE & FALSE & FALSE & FALSE & FALSE\\\\\n",
       "\t TRUE & FALSE & FALSE & FALSE & FALSE & FALSE & FALSE\\\\\n",
       "\t TRUE & FALSE & FALSE & FALSE & FALSE & FALSE & FALSE\\\\\n",
       "\t TRUE & FALSE & FALSE & FALSE & FALSE & FALSE & FALSE\\\\\n",
       "\\end{tabular}\n"
      ],
      "text/markdown": [
       "\n",
       "A matrix: 6 × 7 of type lgl\n",
       "\n",
       "| lnGGGI | lnFDI | lnGDP | lnPD | lnTO | lnGDP2 | lnCO2 |\n",
       "|---|---|---|---|---|---|---|\n",
       "| TRUE | FALSE | FALSE | FALSE | FALSE | FALSE | FALSE |\n",
       "| TRUE | FALSE | FALSE | FALSE | FALSE | FALSE | FALSE |\n",
       "| TRUE | FALSE | FALSE | FALSE | FALSE | FALSE | FALSE |\n",
       "| TRUE | FALSE | FALSE | FALSE | FALSE | FALSE | FALSE |\n",
       "| TRUE | FALSE | FALSE | FALSE | FALSE | FALSE | FALSE |\n",
       "| TRUE | FALSE | FALSE | FALSE | FALSE | FALSE | FALSE |\n",
       "\n"
      ],
      "text/plain": [
       "     lnGGGI lnFDI lnGDP lnPD  lnTO  lnGDP2 lnCO2\n",
       "[1,] TRUE   FALSE FALSE FALSE FALSE FALSE  FALSE\n",
       "[2,] TRUE   FALSE FALSE FALSE FALSE FALSE  FALSE\n",
       "[3,] TRUE   FALSE FALSE FALSE FALSE FALSE  FALSE\n",
       "[4,] TRUE   FALSE FALSE FALSE FALSE FALSE  FALSE\n",
       "[5,] TRUE   FALSE FALSE FALSE FALSE FALSE  FALSE\n",
       "[6,] TRUE   FALSE FALSE FALSE FALSE FALSE  FALSE"
      ]
     },
     "metadata": {},
     "output_type": "display_data"
    },
    {
     "data": {
      "text/html": [
       "<table class=\"dataframe\">\n",
       "<caption>A matrix: 6 × 7 of type lgl</caption>\n",
       "<thead>\n",
       "\t<tr><th scope=col>lnGGGI</th><th scope=col>lnFDI</th><th scope=col>lnGDP</th><th scope=col>lnPD</th><th scope=col>lnTO</th><th scope=col>lnGDP2</th><th scope=col>lnCO2</th></tr>\n",
       "</thead>\n",
       "<tbody>\n",
       "\t<tr><td>TRUE</td><td>FALSE</td><td>FALSE</td><td>FALSE</td><td>FALSE</td><td>FALSE</td><td>FALSE</td></tr>\n",
       "\t<tr><td>TRUE</td><td>FALSE</td><td>FALSE</td><td>FALSE</td><td>FALSE</td><td>FALSE</td><td>FALSE</td></tr>\n",
       "\t<tr><td>TRUE</td><td>FALSE</td><td>FALSE</td><td>FALSE</td><td>FALSE</td><td>FALSE</td><td>FALSE</td></tr>\n",
       "\t<tr><td>TRUE</td><td>FALSE</td><td>FALSE</td><td>FALSE</td><td>FALSE</td><td>FALSE</td><td>FALSE</td></tr>\n",
       "\t<tr><td>TRUE</td><td>FALSE</td><td>FALSE</td><td>FALSE</td><td>FALSE</td><td>FALSE</td><td>FALSE</td></tr>\n",
       "\t<tr><td>TRUE</td><td>FALSE</td><td>FALSE</td><td>FALSE</td><td>FALSE</td><td>FALSE</td><td>FALSE</td></tr>\n",
       "</tbody>\n",
       "</table>\n"
      ],
      "text/latex": [
       "A matrix: 6 × 7 of type lgl\n",
       "\\begin{tabular}{lllllll}\n",
       " lnGGGI & lnFDI & lnGDP & lnPD & lnTO & lnGDP2 & lnCO2\\\\\n",
       "\\hline\n",
       "\t TRUE & FALSE & FALSE & FALSE & FALSE & FALSE & FALSE\\\\\n",
       "\t TRUE & FALSE & FALSE & FALSE & FALSE & FALSE & FALSE\\\\\n",
       "\t TRUE & FALSE & FALSE & FALSE & FALSE & FALSE & FALSE\\\\\n",
       "\t TRUE & FALSE & FALSE & FALSE & FALSE & FALSE & FALSE\\\\\n",
       "\t TRUE & FALSE & FALSE & FALSE & FALSE & FALSE & FALSE\\\\\n",
       "\t TRUE & FALSE & FALSE & FALSE & FALSE & FALSE & FALSE\\\\\n",
       "\\end{tabular}\n"
      ],
      "text/markdown": [
       "\n",
       "A matrix: 6 × 7 of type lgl\n",
       "\n",
       "| lnGGGI | lnFDI | lnGDP | lnPD | lnTO | lnGDP2 | lnCO2 |\n",
       "|---|---|---|---|---|---|---|\n",
       "| TRUE | FALSE | FALSE | FALSE | FALSE | FALSE | FALSE |\n",
       "| TRUE | FALSE | FALSE | FALSE | FALSE | FALSE | FALSE |\n",
       "| TRUE | FALSE | FALSE | FALSE | FALSE | FALSE | FALSE |\n",
       "| TRUE | FALSE | FALSE | FALSE | FALSE | FALSE | FALSE |\n",
       "| TRUE | FALSE | FALSE | FALSE | FALSE | FALSE | FALSE |\n",
       "| TRUE | FALSE | FALSE | FALSE | FALSE | FALSE | FALSE |\n",
       "\n"
      ],
      "text/plain": [
       "     lnGGGI lnFDI lnGDP lnPD  lnTO  lnGDP2 lnCO2\n",
       "[1,] TRUE   FALSE FALSE FALSE FALSE FALSE  FALSE\n",
       "[2,] TRUE   FALSE FALSE FALSE FALSE FALSE  FALSE\n",
       "[3,] TRUE   FALSE FALSE FALSE FALSE FALSE  FALSE\n",
       "[4,] TRUE   FALSE FALSE FALSE FALSE FALSE  FALSE\n",
       "[5,] TRUE   FALSE FALSE FALSE FALSE FALSE  FALSE\n",
       "[6,] TRUE   FALSE FALSE FALSE FALSE FALSE  FALSE"
      ]
     },
     "metadata": {},
     "output_type": "display_data"
    }
   ],
   "source": [
    "# check null values\n",
    "head(is.na(df_developed))\n",
    "df_developed <- na.omit(df_developed) # remove null values\n",
    "\n",
    "head(is.na(df_developing))\n",
    "df_developing <- na.omit(df_developing) # remove null values\n",
    "\n",
    "head(is.na(df_all))\n",
    "df_all <- na.omit(df_all) # remove null values\n"
   ]
  },
  {
   "cell_type": "code",
   "execution_count": 46,
   "metadata": {
    "vscode": {
     "languageId": "r"
    }
   },
   "outputs": [
    {
     "data": {
      "text/html": [
       "<table class=\"dataframe\">\n",
       "<caption>A matrix: 7 × 7 of type dbl</caption>\n",
       "<thead>\n",
       "\t<tr><th></th><th scope=col>lnGGGI</th><th scope=col>lnFDI</th><th scope=col>lnGDP</th><th scope=col>lnPD</th><th scope=col>lnTO</th><th scope=col>lnGDP2</th><th scope=col>lnCO2</th></tr>\n",
       "</thead>\n",
       "<tbody>\n",
       "\t<tr><th scope=row>lnGGGI</th><td> 1.00000000</td><td> 0.02415601</td><td> 0.026883895</td><td>-0.496123170</td><td>-0.08511704</td><td> 0.026883895</td><td>-0.12791954</td></tr>\n",
       "\t<tr><th scope=row>lnFDI</th><td> 0.02415601</td><td> 1.00000000</td><td> 0.639635020</td><td> 0.165454127</td><td>-0.19525952</td><td> 0.639635020</td><td> 0.58353057</td></tr>\n",
       "\t<tr><th scope=row>lnGDP</th><td> 0.02688389</td><td> 0.63963502</td><td> 1.000000000</td><td> 0.009653445</td><td>-0.67748828</td><td> 1.000000000</td><td> 0.95618607</td></tr>\n",
       "\t<tr><th scope=row>lnPD</th><td>-0.49612317</td><td> 0.16545413</td><td> 0.009653445</td><td> 1.000000000</td><td> 0.45159136</td><td> 0.009653445</td><td>-0.03086052</td></tr>\n",
       "\t<tr><th scope=row>lnTO</th><td>-0.08511704</td><td>-0.19525952</td><td>-0.677488277</td><td> 0.451591357</td><td> 1.00000000</td><td>-0.677488277</td><td>-0.69589646</td></tr>\n",
       "\t<tr><th scope=row>lnGDP2</th><td> 0.02688389</td><td> 0.63963502</td><td> 1.000000000</td><td> 0.009653445</td><td>-0.67748828</td><td> 1.000000000</td><td> 0.95618607</td></tr>\n",
       "\t<tr><th scope=row>lnCO2</th><td>-0.12791954</td><td> 0.58353057</td><td> 0.956186070</td><td>-0.030860522</td><td>-0.69589646</td><td> 0.956186070</td><td> 1.00000000</td></tr>\n",
       "</tbody>\n",
       "</table>\n"
      ],
      "text/latex": [
       "A matrix: 7 × 7 of type dbl\n",
       "\\begin{tabular}{r|lllllll}\n",
       "  & lnGGGI & lnFDI & lnGDP & lnPD & lnTO & lnGDP2 & lnCO2\\\\\n",
       "\\hline\n",
       "\tlnGGGI &  1.00000000 &  0.02415601 &  0.026883895 & -0.496123170 & -0.08511704 &  0.026883895 & -0.12791954\\\\\n",
       "\tlnFDI &  0.02415601 &  1.00000000 &  0.639635020 &  0.165454127 & -0.19525952 &  0.639635020 &  0.58353057\\\\\n",
       "\tlnGDP &  0.02688389 &  0.63963502 &  1.000000000 &  0.009653445 & -0.67748828 &  1.000000000 &  0.95618607\\\\\n",
       "\tlnPD & -0.49612317 &  0.16545413 &  0.009653445 &  1.000000000 &  0.45159136 &  0.009653445 & -0.03086052\\\\\n",
       "\tlnTO & -0.08511704 & -0.19525952 & -0.677488277 &  0.451591357 &  1.00000000 & -0.677488277 & -0.69589646\\\\\n",
       "\tlnGDP2 &  0.02688389 &  0.63963502 &  1.000000000 &  0.009653445 & -0.67748828 &  1.000000000 &  0.95618607\\\\\n",
       "\tlnCO2 & -0.12791954 &  0.58353057 &  0.956186070 & -0.030860522 & -0.69589646 &  0.956186070 &  1.00000000\\\\\n",
       "\\end{tabular}\n"
      ],
      "text/markdown": [
       "\n",
       "A matrix: 7 × 7 of type dbl\n",
       "\n",
       "| <!--/--> | lnGGGI | lnFDI | lnGDP | lnPD | lnTO | lnGDP2 | lnCO2 |\n",
       "|---|---|---|---|---|---|---|---|\n",
       "| lnGGGI |  1.00000000 |  0.02415601 |  0.026883895 | -0.496123170 | -0.08511704 |  0.026883895 | -0.12791954 |\n",
       "| lnFDI |  0.02415601 |  1.00000000 |  0.639635020 |  0.165454127 | -0.19525952 |  0.639635020 |  0.58353057 |\n",
       "| lnGDP |  0.02688389 |  0.63963502 |  1.000000000 |  0.009653445 | -0.67748828 |  1.000000000 |  0.95618607 |\n",
       "| lnPD | -0.49612317 |  0.16545413 |  0.009653445 |  1.000000000 |  0.45159136 |  0.009653445 | -0.03086052 |\n",
       "| lnTO | -0.08511704 | -0.19525952 | -0.677488277 |  0.451591357 |  1.00000000 | -0.677488277 | -0.69589646 |\n",
       "| lnGDP2 |  0.02688389 |  0.63963502 |  1.000000000 |  0.009653445 | -0.67748828 |  1.000000000 |  0.95618607 |\n",
       "| lnCO2 | -0.12791954 |  0.58353057 |  0.956186070 | -0.030860522 | -0.69589646 |  0.956186070 |  1.00000000 |\n",
       "\n"
      ],
      "text/plain": [
       "       lnGGGI      lnFDI       lnGDP        lnPD         lnTO       \n",
       "lnGGGI  1.00000000  0.02415601  0.026883895 -0.496123170 -0.08511704\n",
       "lnFDI   0.02415601  1.00000000  0.639635020  0.165454127 -0.19525952\n",
       "lnGDP   0.02688389  0.63963502  1.000000000  0.009653445 -0.67748828\n",
       "lnPD   -0.49612317  0.16545413  0.009653445  1.000000000  0.45159136\n",
       "lnTO   -0.08511704 -0.19525952 -0.677488277  0.451591357  1.00000000\n",
       "lnGDP2  0.02688389  0.63963502  1.000000000  0.009653445 -0.67748828\n",
       "lnCO2  -0.12791954  0.58353057  0.956186070 -0.030860522 -0.69589646\n",
       "       lnGDP2       lnCO2      \n",
       "lnGGGI  0.026883895 -0.12791954\n",
       "lnFDI   0.639635020  0.58353057\n",
       "lnGDP   1.000000000  0.95618607\n",
       "lnPD    0.009653445 -0.03086052\n",
       "lnTO   -0.677488277 -0.69589646\n",
       "lnGDP2  1.000000000  0.95618607\n",
       "lnCO2   0.956186070  1.00000000"
      ]
     },
     "metadata": {},
     "output_type": "display_data"
    },
    {
     "data": {
      "text/html": [
       "<table class=\"dataframe\">\n",
       "<caption>A matrix: 7 × 7 of type dbl</caption>\n",
       "<thead>\n",
       "\t<tr><th></th><th scope=col>lnGGGI</th><th scope=col>lnFDI</th><th scope=col>lnGDP</th><th scope=col>lnPD</th><th scope=col>lnTO</th><th scope=col>lnGDP2</th><th scope=col>lnCO2</th></tr>\n",
       "</thead>\n",
       "<tbody>\n",
       "\t<tr><th scope=row>lnGGGI</th><td> 1.000000000</td><td>-0.003521066</td><td>-0.0858834</td><td> 0.007433124</td><td> 0.08337006</td><td>-0.0858834</td><td>-0.08094260</td></tr>\n",
       "\t<tr><th scope=row>lnFDI</th><td>-0.003521066</td><td> 1.000000000</td><td> 0.8334840</td><td>-0.012543305</td><td>-0.11386001</td><td> 0.8334840</td><td> 0.80110960</td></tr>\n",
       "\t<tr><th scope=row>lnGDP</th><td>-0.085883396</td><td> 0.833483968</td><td> 1.0000000</td><td> 0.072158403</td><td>-0.35908405</td><td> 1.0000000</td><td> 0.94436458</td></tr>\n",
       "\t<tr><th scope=row>lnPD</th><td> 0.007433124</td><td>-0.012543305</td><td> 0.0721584</td><td> 1.000000000</td><td>-0.05054846</td><td> 0.0721584</td><td> 0.04662639</td></tr>\n",
       "\t<tr><th scope=row>lnTO</th><td> 0.083370056</td><td>-0.113860013</td><td>-0.3590841</td><td>-0.050548460</td><td> 1.00000000</td><td>-0.3590841</td><td>-0.20458479</td></tr>\n",
       "\t<tr><th scope=row>lnGDP2</th><td>-0.085883396</td><td> 0.833483968</td><td> 1.0000000</td><td> 0.072158403</td><td>-0.35908405</td><td> 1.0000000</td><td> 0.94436458</td></tr>\n",
       "\t<tr><th scope=row>lnCO2</th><td>-0.080942599</td><td> 0.801109598</td><td> 0.9443646</td><td> 0.046626385</td><td>-0.20458479</td><td> 0.9443646</td><td> 1.00000000</td></tr>\n",
       "</tbody>\n",
       "</table>\n"
      ],
      "text/latex": [
       "A matrix: 7 × 7 of type dbl\n",
       "\\begin{tabular}{r|lllllll}\n",
       "  & lnGGGI & lnFDI & lnGDP & lnPD & lnTO & lnGDP2 & lnCO2\\\\\n",
       "\\hline\n",
       "\tlnGGGI &  1.000000000 & -0.003521066 & -0.0858834 &  0.007433124 &  0.08337006 & -0.0858834 & -0.08094260\\\\\n",
       "\tlnFDI & -0.003521066 &  1.000000000 &  0.8334840 & -0.012543305 & -0.11386001 &  0.8334840 &  0.80110960\\\\\n",
       "\tlnGDP & -0.085883396 &  0.833483968 &  1.0000000 &  0.072158403 & -0.35908405 &  1.0000000 &  0.94436458\\\\\n",
       "\tlnPD &  0.007433124 & -0.012543305 &  0.0721584 &  1.000000000 & -0.05054846 &  0.0721584 &  0.04662639\\\\\n",
       "\tlnTO &  0.083370056 & -0.113860013 & -0.3590841 & -0.050548460 &  1.00000000 & -0.3590841 & -0.20458479\\\\\n",
       "\tlnGDP2 & -0.085883396 &  0.833483968 &  1.0000000 &  0.072158403 & -0.35908405 &  1.0000000 &  0.94436458\\\\\n",
       "\tlnCO2 & -0.080942599 &  0.801109598 &  0.9443646 &  0.046626385 & -0.20458479 &  0.9443646 &  1.00000000\\\\\n",
       "\\end{tabular}\n"
      ],
      "text/markdown": [
       "\n",
       "A matrix: 7 × 7 of type dbl\n",
       "\n",
       "| <!--/--> | lnGGGI | lnFDI | lnGDP | lnPD | lnTO | lnGDP2 | lnCO2 |\n",
       "|---|---|---|---|---|---|---|---|\n",
       "| lnGGGI |  1.000000000 | -0.003521066 | -0.0858834 |  0.007433124 |  0.08337006 | -0.0858834 | -0.08094260 |\n",
       "| lnFDI | -0.003521066 |  1.000000000 |  0.8334840 | -0.012543305 | -0.11386001 |  0.8334840 |  0.80110960 |\n",
       "| lnGDP | -0.085883396 |  0.833483968 |  1.0000000 |  0.072158403 | -0.35908405 |  1.0000000 |  0.94436458 |\n",
       "| lnPD |  0.007433124 | -0.012543305 |  0.0721584 |  1.000000000 | -0.05054846 |  0.0721584 |  0.04662639 |\n",
       "| lnTO |  0.083370056 | -0.113860013 | -0.3590841 | -0.050548460 |  1.00000000 | -0.3590841 | -0.20458479 |\n",
       "| lnGDP2 | -0.085883396 |  0.833483968 |  1.0000000 |  0.072158403 | -0.35908405 |  1.0000000 |  0.94436458 |\n",
       "| lnCO2 | -0.080942599 |  0.801109598 |  0.9443646 |  0.046626385 | -0.20458479 |  0.9443646 |  1.00000000 |\n",
       "\n"
      ],
      "text/plain": [
       "       lnGGGI       lnFDI        lnGDP      lnPD         lnTO        lnGDP2    \n",
       "lnGGGI  1.000000000 -0.003521066 -0.0858834  0.007433124  0.08337006 -0.0858834\n",
       "lnFDI  -0.003521066  1.000000000  0.8334840 -0.012543305 -0.11386001  0.8334840\n",
       "lnGDP  -0.085883396  0.833483968  1.0000000  0.072158403 -0.35908405  1.0000000\n",
       "lnPD    0.007433124 -0.012543305  0.0721584  1.000000000 -0.05054846  0.0721584\n",
       "lnTO    0.083370056 -0.113860013 -0.3590841 -0.050548460  1.00000000 -0.3590841\n",
       "lnGDP2 -0.085883396  0.833483968  1.0000000  0.072158403 -0.35908405  1.0000000\n",
       "lnCO2  -0.080942599  0.801109598  0.9443646  0.046626385 -0.20458479  0.9443646\n",
       "       lnCO2      \n",
       "lnGGGI -0.08094260\n",
       "lnFDI   0.80110960\n",
       "lnGDP   0.94436458\n",
       "lnPD    0.04662639\n",
       "lnTO   -0.20458479\n",
       "lnGDP2  0.94436458\n",
       "lnCO2   1.00000000"
      ]
     },
     "metadata": {},
     "output_type": "display_data"
    },
    {
     "data": {
      "text/html": [
       "<table class=\"dataframe\">\n",
       "<caption>A matrix: 7 × 7 of type dbl</caption>\n",
       "<thead>\n",
       "\t<tr><th></th><th scope=col>lnGGGI</th><th scope=col>lnFDI</th><th scope=col>lnGDP</th><th scope=col>lnPD</th><th scope=col>lnTO</th><th scope=col>lnGDP2</th><th scope=col>lnCO2</th></tr>\n",
       "</thead>\n",
       "<tbody>\n",
       "\t<tr><th scope=row>lnGGGI</th><td> 1.00000000</td><td> 0.199363938</td><td> 0.13319735</td><td>-0.06889740</td><td> 0.129555593</td><td> 0.13319735</td><td> 0.03665059</td></tr>\n",
       "\t<tr><th scope=row>lnFDI</th><td> 0.19936394</td><td> 1.000000000</td><td> 0.83105180</td><td> 0.08260300</td><td>-0.006572739</td><td> 0.83105180</td><td> 0.77126166</td></tr>\n",
       "\t<tr><th scope=row>lnGDP</th><td> 0.13319735</td><td> 0.831051805</td><td> 1.00000000</td><td> 0.09505715</td><td>-0.294075366</td><td> 1.00000000</td><td> 0.93764000</td></tr>\n",
       "\t<tr><th scope=row>lnPD</th><td>-0.06889740</td><td> 0.082602998</td><td> 0.09505715</td><td> 1.00000000</td><td> 0.152570810</td><td> 0.09505715</td><td> 0.05460430</td></tr>\n",
       "\t<tr><th scope=row>lnTO</th><td> 0.12955559</td><td>-0.006572739</td><td>-0.29407537</td><td> 0.15257081</td><td> 1.000000000</td><td>-0.29407537</td><td>-0.24569161</td></tr>\n",
       "\t<tr><th scope=row>lnGDP2</th><td> 0.13319735</td><td> 0.831051805</td><td> 1.00000000</td><td> 0.09505715</td><td>-0.294075366</td><td> 1.00000000</td><td> 0.93764000</td></tr>\n",
       "\t<tr><th scope=row>lnCO2</th><td> 0.03665059</td><td> 0.771261659</td><td> 0.93764000</td><td> 0.05460430</td><td>-0.245691613</td><td> 0.93764000</td><td> 1.00000000</td></tr>\n",
       "</tbody>\n",
       "</table>\n"
      ],
      "text/latex": [
       "A matrix: 7 × 7 of type dbl\n",
       "\\begin{tabular}{r|lllllll}\n",
       "  & lnGGGI & lnFDI & lnGDP & lnPD & lnTO & lnGDP2 & lnCO2\\\\\n",
       "\\hline\n",
       "\tlnGGGI &  1.00000000 &  0.199363938 &  0.13319735 & -0.06889740 &  0.129555593 &  0.13319735 &  0.03665059\\\\\n",
       "\tlnFDI &  0.19936394 &  1.000000000 &  0.83105180 &  0.08260300 & -0.006572739 &  0.83105180 &  0.77126166\\\\\n",
       "\tlnGDP &  0.13319735 &  0.831051805 &  1.00000000 &  0.09505715 & -0.294075366 &  1.00000000 &  0.93764000\\\\\n",
       "\tlnPD & -0.06889740 &  0.082602998 &  0.09505715 &  1.00000000 &  0.152570810 &  0.09505715 &  0.05460430\\\\\n",
       "\tlnTO &  0.12955559 & -0.006572739 & -0.29407537 &  0.15257081 &  1.000000000 & -0.29407537 & -0.24569161\\\\\n",
       "\tlnGDP2 &  0.13319735 &  0.831051805 &  1.00000000 &  0.09505715 & -0.294075366 &  1.00000000 &  0.93764000\\\\\n",
       "\tlnCO2 &  0.03665059 &  0.771261659 &  0.93764000 &  0.05460430 & -0.245691613 &  0.93764000 &  1.00000000\\\\\n",
       "\\end{tabular}\n"
      ],
      "text/markdown": [
       "\n",
       "A matrix: 7 × 7 of type dbl\n",
       "\n",
       "| <!--/--> | lnGGGI | lnFDI | lnGDP | lnPD | lnTO | lnGDP2 | lnCO2 |\n",
       "|---|---|---|---|---|---|---|---|\n",
       "| lnGGGI |  1.00000000 |  0.199363938 |  0.13319735 | -0.06889740 |  0.129555593 |  0.13319735 |  0.03665059 |\n",
       "| lnFDI |  0.19936394 |  1.000000000 |  0.83105180 |  0.08260300 | -0.006572739 |  0.83105180 |  0.77126166 |\n",
       "| lnGDP |  0.13319735 |  0.831051805 |  1.00000000 |  0.09505715 | -0.294075366 |  1.00000000 |  0.93764000 |\n",
       "| lnPD | -0.06889740 |  0.082602998 |  0.09505715 |  1.00000000 |  0.152570810 |  0.09505715 |  0.05460430 |\n",
       "| lnTO |  0.12955559 | -0.006572739 | -0.29407537 |  0.15257081 |  1.000000000 | -0.29407537 | -0.24569161 |\n",
       "| lnGDP2 |  0.13319735 |  0.831051805 |  1.00000000 |  0.09505715 | -0.294075366 |  1.00000000 |  0.93764000 |\n",
       "| lnCO2 |  0.03665059 |  0.771261659 |  0.93764000 |  0.05460430 | -0.245691613 |  0.93764000 |  1.00000000 |\n",
       "\n"
      ],
      "text/plain": [
       "       lnGGGI      lnFDI        lnGDP       lnPD        lnTO        \n",
       "lnGGGI  1.00000000  0.199363938  0.13319735 -0.06889740  0.129555593\n",
       "lnFDI   0.19936394  1.000000000  0.83105180  0.08260300 -0.006572739\n",
       "lnGDP   0.13319735  0.831051805  1.00000000  0.09505715 -0.294075366\n",
       "lnPD   -0.06889740  0.082602998  0.09505715  1.00000000  0.152570810\n",
       "lnTO    0.12955559 -0.006572739 -0.29407537  0.15257081  1.000000000\n",
       "lnGDP2  0.13319735  0.831051805  1.00000000  0.09505715 -0.294075366\n",
       "lnCO2   0.03665059  0.771261659  0.93764000  0.05460430 -0.245691613\n",
       "       lnGDP2      lnCO2      \n",
       "lnGGGI  0.13319735  0.03665059\n",
       "lnFDI   0.83105180  0.77126166\n",
       "lnGDP   1.00000000  0.93764000\n",
       "lnPD    0.09505715  0.05460430\n",
       "lnTO   -0.29407537 -0.24569161\n",
       "lnGDP2  1.00000000  0.93764000\n",
       "lnCO2   0.93764000  1.00000000"
      ]
     },
     "metadata": {},
     "output_type": "display_data"
    }
   ],
   "source": [
    "cor(df_developed)\n",
    "cor(df_developing)\n",
    "cor(df_all)"
   ]
  },
  {
   "cell_type": "code",
   "execution_count": 47,
   "metadata": {
    "vscode": {
     "languageId": "r"
    }
   },
   "outputs": [
    {
     "data": {
      "text/plain": [
       "\n",
       "Call:\n",
       "lm(formula = lnCO2 ~ ., data = df_developed)\n",
       "\n",
       "Residuals:\n",
       "    Min      1Q  Median      3Q     Max \n",
       "-1.1323 -0.2245  0.0084  0.2434  0.9609 \n",
       "\n",
       "Coefficients: (1 not defined because of singularities)\n",
       "             Estimate Std. Error t value Pr(>|t|)    \n",
       "(Intercept) -22.75449    0.62442 -36.441   <2e-16 ***\n",
       "lnGGGI       -5.98446    0.30659 -19.519   <2e-16 ***\n",
       "lnFDI        -0.01140    0.01439  -0.792    0.429    \n",
       "lnGDP         0.97598    0.02085  46.800   <2e-16 ***\n",
       "lnPD         -0.18130    0.01650 -10.987   <2e-16 ***\n",
       "lnTO          0.08726    0.05659   1.542    0.124    \n",
       "lnGDP2             NA         NA      NA       NA    \n",
       "---\n",
       "Signif. codes:  0 ‘***’ 0.001 ‘**’ 0.01 ‘*’ 0.05 ‘.’ 0.1 ‘ ’ 1\n",
       "\n",
       "Residual standard error: 0.3718 on 446 degrees of freedom\n",
       "Multiple R-squared:  0.9561,\tAdjusted R-squared:  0.9556 \n",
       "F-statistic:  1944 on 5 and 446 DF,  p-value: < 2.2e-16\n"
      ]
     },
     "metadata": {},
     "output_type": "display_data"
    }
   ],
   "source": [
    "model_developed <- lm(lnCO2~., data = df_developed)\n",
    "summary(model_developed)"
   ]
  },
  {
   "cell_type": "code",
   "execution_count": 48,
   "metadata": {
    "vscode": {
     "languageId": "r"
    }
   },
   "outputs": [],
   "source": [
    "# multicollinearity\n"
   ]
  }
 ],
 "metadata": {
  "kernelspec": {
   "display_name": "R",
   "language": "R",
   "name": "ir"
  },
  "language_info": {
   "codemirror_mode": "r",
   "file_extension": ".r",
   "mimetype": "text/x-r-source",
   "name": "R",
   "pygments_lexer": "r",
   "version": "4.2.2"
  },
  "orig_nbformat": 4,
  "vscode": {
   "interpreter": {
    "hash": "916dbcbb3f70747c44a77c7bcd40155683ae19c65e1c03b4aa3499c5328201f1"
   }
  }
 },
 "nbformat": 4,
 "nbformat_minor": 2
}
